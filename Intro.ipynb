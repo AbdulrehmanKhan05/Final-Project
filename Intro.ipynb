{
 "cells": [
  {
   "cell_type": "markdown",
   "metadata": {},
   "source": [
    "## What is The Best Neighborhood in Pittsburgh?"
   ]
  },
  {
   "cell_type": "markdown",
   "metadata": {},
   "source": [
    "For this project, we were told to find the best neighborhood in Pittsburgh. In order to do this, we were to choose a metric of measurement. We chose arguably the most important aspect when choosing a place to live, which is safety. "
   ]
  },
  {
   "cell_type": "code",
   "execution_count": 2,
   "metadata": {},
   "outputs": [
    {
     "name": "stdout",
     "output_type": "stream",
     "text": [
      "/bin/bash: -c: line 0: syntax error near unexpected token `https://giphy.com/gifs/pudgypenguins-safe-safety-first-XtX936H4lzr5fUgJOR'\n",
      "/bin/bash: -c: line 0: `[Gif](https://giphy.com/gifs/pudgypenguins-safe-safety-first-XtX936H4lzr5fUgJOR)'\n"
     ]
    }
   ],
   "source": [
    "![Gif](https://giphy.com/gifs/pudgypenguins-safe-safety-first-XtX936H4lzr5fUgJOR)"
   ]
  },
  {
   "cell_type": "code",
   "execution_count": null,
   "metadata": {},
   "outputs": [],
   "source": []
  }
 ],
 "metadata": {
  "kernelspec": {
   "display_name": "Python 3",
   "language": "python",
   "name": "python3"
  },
  "language_info": {
   "codemirror_mode": {
    "name": "ipython",
    "version": 3
   },
   "file_extension": ".py",
   "mimetype": "text/x-python",
   "name": "python",
   "nbconvert_exporter": "python",
   "pygments_lexer": "ipython3",
   "version": "3.8.3"
  }
 },
 "nbformat": 4,
 "nbformat_minor": 4
}
