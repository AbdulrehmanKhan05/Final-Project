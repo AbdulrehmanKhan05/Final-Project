{
 "cells": [
  {
   "cell_type": "markdown",
   "metadata": {},
   "source": [
    "## What is The Best Neighborhood in Pittsburgh?"
   ]
  },
  {
   "cell_type": "markdown",
   "metadata": {},
   "source": [
    "For this project, we were told to find the best neighborhood in Pittsburgh. In order to do this, we were to choose a metric of measurement. We chose arguably the most important aspect when choosing a place to live, which is safety. "
   ]
  },
  {
   "cell_type": "markdown",
   "metadata": {},
   "source": [
    "![Gif](https://media.giphy.com/media/v1.Y2lkPTc5MGI3NjExYWpkbjZyejJiYTAwbHd0eWozdHVwMGF2eGkzY2ppbW10MjUyOTVscCZlcD12MV9naWZzX3NlYXJjaCZjdD1n/XtX936H4lzr5fUgJOR/giphy.gif)"
   ]
  },
  {
   "cell_type": "code",
   "execution_count": null,
   "metadata": {},
   "outputs": [],
   "source": []
  }
 ],
 "metadata": {
  "kernelspec": {
   "display_name": "Python 3",
   "language": "python",
   "name": "python3"
  },
  "language_info": {
   "codemirror_mode": {
    "name": "ipython",
    "version": 3
   },
   "file_extension": ".py",
   "mimetype": "text/x-python",
   "name": "python",
   "nbconvert_exporter": "python",
   "pygments_lexer": "ipython3",
   "version": "3.8.3"
  }
 },
 "nbformat": 4,
 "nbformat_minor": 4
}
